{
 "cells": [
  {
   "cell_type": "code",
   "execution_count": 1,
   "id": "6c52a9c1",
   "metadata": {},
   "outputs": [
    {
     "data": {
      "text/plain": [
       "11"
      ]
     },
     "execution_count": 1,
     "metadata": {},
     "output_type": "execute_result"
    }
   ],
   "source": [
    "def fun1(s) :\n",
    "    \"\"\"\n",
    "    Returns length of the string without using in-built len() function.\n",
    "    Time Complexity O(n)\n",
    "    Space Complexity O(1)\n",
    "    \"\"\"\n",
    "    cnt=0\n",
    "    if type(s)==str :\n",
    "        for x in s:\n",
    "            cnt=cnt+1\n",
    "    return cnt\n",
    "fun1(\"Hello World\")"
   ]
  },
  {
   "cell_type": "code",
   "execution_count": 4,
   "id": "9f3746b8",
   "metadata": {},
   "outputs": [
    {
     "data": {
      "text/plain": [
       "[0, 1, 2, 3]"
      ]
     },
     "execution_count": 4,
     "metadata": {},
     "output_type": "execute_result"
    }
   ],
   "source": [
    "def fun2(args) : \n",
    "    \"\"\"\n",
    "    Returns a list of indexes of every element in the container\"\"\"\n",
    "    ans = []\n",
    "    if type(args)== int or type(args)==float or type(args)==complex : \n",
    "        ans.append(0)\n",
    "    else :\n",
    "        idx=0\n",
    "        for x in args:\n",
    "            ans.append(idx)\n",
    "            idx = idx+1\n",
    "    return ans\n",
    "fun2([2,3,4,5])\n"
   ]
  },
  {
   "cell_type": "code",
   "execution_count": 8,
   "id": "2b0c126a",
   "metadata": {},
   "outputs": [
    {
     "data": {
      "text/plain": [
       "[25, 98]"
      ]
     },
     "execution_count": 8,
     "metadata": {},
     "output_type": "execute_result"
    }
   ],
   "source": [
    "def fun3(d={}) :\n",
    "    \"\"\"\n",
    "    Returns every value in the dictionary object passed into the function. If any value is dictionary, then that\n",
    "    \"\"\"\n",
    "    ans = []\n",
    "    if type(d) == dict :\n",
    "        for x in d.values():\n",
    "            if x== dict : \n",
    "                for y in x.values() : \n",
    "                    ans.append(y)\n",
    "            ans.append(x)\n",
    "    return ans\n",
    "fun3({\"asdf\":25, \"sdf\":98})\n",
    "\n",
    "        "
   ]
  },
  {
   "cell_type": "code",
   "execution_count": 12,
   "id": "9ffa10a1",
   "metadata": {},
   "outputs": [
    {
     "data": {
      "text/plain": [
       "3"
      ]
     },
     "execution_count": 12,
     "metadata": {},
     "output_type": "execute_result"
    }
   ],
   "source": [
    "def fun4(l=fun2([34,234,342])) :\n",
    "    \"\"\"\n",
    "    Uses function call as an parameter. Calcualtes the sum of all the values returned by fun2\n",
    "    \"\"\"\n",
    "    sum=0\n",
    "    for x in l :\n",
    "        sum+=x\n",
    "    return sum\n",
    "fun4()"
   ]
  },
  {
   "cell_type": "code",
   "execution_count": 5,
   "id": "9560f207",
   "metadata": {},
   "outputs": [],
   "source": [
    "def fun5(*args) :\n",
    "    ans = []\n",
    "    for x in args :\n",
    "        if x == list :\n",
    "            ans.append(x)\n",
    "    return ans\n",
    "            "
   ]
  },
  {
   "cell_type": "code",
   "execution_count": 14,
   "id": "86b2c92b",
   "metadata": {},
   "outputs": [
    {
     "data": {
      "text/plain": [
       "14"
      ]
     },
     "execution_count": 14,
     "metadata": {},
     "output_type": "execute_result"
    }
   ],
   "source": [
    "def fun6(l=[],e=-1) :\n",
    "    \"\"\"\n",
    "    Returns index of the element in the list, if not found, then returns -1\n",
    "    l : list\n",
    "    e : element \n",
    "    \"\"\"\n",
    "    idx=0\n",
    "    for x in l :\n",
    "        if x==e : \n",
    "            return idx\n",
    "        idx+=1\n",
    "            \n",
    "    return -1\n",
    "fun6(l=[2,34,23,4,23423,4,23,42,34,234,23,4,26,536,2356],e=2356)"
   ]
  },
  {
   "cell_type": "code",
   "execution_count": 17,
   "id": "acd05c61",
   "metadata": {},
   "outputs": [
    {
     "data": {
      "text/plain": [
       "['.ipynb_checkpoints',\n",
       " '23rd Dec 2021 Homework.ipynb',\n",
       " 'abc.txt',\n",
       " 'Data Visualization.ipynb',\n",
       " 'File Operations 2022 9 jan.ipynb',\n",
       " 'File Operations 9 jan 2022 part 2.ipynb',\n",
       " 'file sysetm( 9 Jan resource).ipynb',\n",
       " 'FSDS 15 Jan 2022.ipynb',\n",
       " 'Function and holiday task(23rd Dec Resource).ipynb',\n",
       " 'Function in pyton  (1).ipynb',\n",
       " 'Functions 2022 8 Jan.ipynb',\n",
       " 'Functions Part 2.1.ipynb',\n",
       " 'google.txt',\n",
       " 'iterator generator( 9 jan Resource).ipynb',\n",
       " 'Loggind&Debugging(Old).ipynb',\n",
       " 'logging',\n",
       " 'Matplotlib.ipynb',\n",
       " 'Pandas.ipynb',\n",
       " 'Python.ipynb',\n",
       " 'Seaborn 2.ipynb',\n",
       " 'Seaborn.ipynb',\n",
       " 'test.log',\n",
       " 'test.txt',\n",
       " 'test2.txt',\n",
       " 'test3.txt',\n",
       " 'Untitled.ipynb',\n",
       " 'Untitled1.ipynb',\n",
       " 'Untitled2.ipynb']"
      ]
     },
     "execution_count": 17,
     "metadata": {},
     "output_type": "execute_result"
    }
   ],
   "source": [
    "def fun7() :\n",
    "    import os\n",
    "    l = os.listdir()\n",
    "    return l\n",
    "fun7()"
   ]
  },
  {
   "cell_type": "code",
   "execution_count": 9,
   "id": "9b3f0432",
   "metadata": {},
   "outputs": [],
   "source": [
    "def fun8() :\n",
    "    import os \n",
    "    os."
   ]
  },
  {
   "cell_type": "code",
   "execution_count": 10,
   "id": "5c313b25",
   "metadata": {},
   "outputs": [
    {
     "ename": "KeyError",
     "evalue": "0",
     "output_type": "error",
     "traceback": [
      "\u001b[1;31m---------------------------------------------------------------------------\u001b[0m",
      "\u001b[1;31mKeyError\u001b[0m                                  Traceback (most recent call last)",
      "\u001b[1;32m<ipython-input-10-123a9cc6df61>\u001b[0m in \u001b[0;36m<module>\u001b[1;34m\u001b[0m\n\u001b[1;32m----> 1\u001b[1;33m \u001b[0md\u001b[0m\u001b[1;33m[\u001b[0m\u001b[1;36m0\u001b[0m\u001b[1;33m]\u001b[0m\u001b[1;33m\u001b[0m\u001b[1;33m\u001b[0m\u001b[0m\n\u001b[0m",
      "\u001b[1;31mKeyError\u001b[0m: 0"
     ]
    }
   ],
   "source": [
    "d[0]"
   ]
  },
  {
   "cell_type": "code",
   "execution_count": null,
   "id": "92db4475",
   "metadata": {},
   "outputs": [],
   "source": []
  }
 ],
 "metadata": {
  "kernelspec": {
   "display_name": "Python 3",
   "language": "python",
   "name": "python3"
  },
  "language_info": {
   "codemirror_mode": {
    "name": "ipython",
    "version": 3
   },
   "file_extension": ".py",
   "mimetype": "text/x-python",
   "name": "python",
   "nbconvert_exporter": "python",
   "pygments_lexer": "ipython3",
   "version": "3.8.8"
  }
 },
 "nbformat": 4,
 "nbformat_minor": 5
}
