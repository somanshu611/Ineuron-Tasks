{
 "cells": [
  {
   "cell_type": "code",
   "execution_count": 2,
   "id": "3b59e4b3",
   "metadata": {},
   "outputs": [],
   "source": [
    "# in memory database, local memory.\n",
    "import sqlite3\n",
    "# develop in C\n",
    "# it's API(usage) are available in all devices\n",
    "# stoes only tabular data\n"
   ]
  },
  {
   "cell_type": "code",
   "execution_count": 2,
   "id": "95525094",
   "metadata": {},
   "outputs": [],
   "source": [
    "# you can also create .txt file\n",
    "# here, in sql or mongodb, we would pass the connection url, however, here we are creaing database in local system.\n",
    "db = sqlite3.connect('ineuron.db')"
   ]
  },
  {
   "cell_type": "code",
   "execution_count": 3,
   "id": "772baf5a",
   "metadata": {},
   "outputs": [],
   "source": [
    "c= db.cursor()"
   ]
  },
  {
   "cell_type": "code",
   "execution_count": 4,
   "id": "a3499f7b",
   "metadata": {},
   "outputs": [
    {
     "ename": "OperationalError",
     "evalue": "table fsds already exists",
     "output_type": "error",
     "traceback": [
      "\u001b[1;31m---------------------------------------------------------------------------\u001b[0m",
      "\u001b[1;31mOperationalError\u001b[0m                          Traceback (most recent call last)",
      "\u001b[1;32m~\\AppData\\Local\\Temp/ipykernel_21084/1499799735.py\u001b[0m in \u001b[0;36m<module>\u001b[1;34m\u001b[0m\n\u001b[1;32m----> 1\u001b[1;33m \u001b[0mc\u001b[0m\u001b[1;33m.\u001b[0m\u001b[0mexecute\u001b[0m\u001b[1;33m(\u001b[0m\u001b[1;34m'create table fsds(name text, batchid int, marks real)'\u001b[0m\u001b[1;33m)\u001b[0m\u001b[1;33m\u001b[0m\u001b[1;33m\u001b[0m\u001b[0m\n\u001b[0m",
      "\u001b[1;31mOperationalError\u001b[0m: table fsds already exists"
     ]
    }
   ],
   "source": [
    "c.execute('create table fsds(name text, batchid int, marks real)')"
   ]
  },
  {
   "cell_type": "code",
   "execution_count": 5,
   "id": "7ff9e8c8",
   "metadata": {},
   "outputs": [
    {
     "data": {
      "text/plain": [
       "<sqlite3.Cursor at 0x22f965b2dc0>"
      ]
     },
     "execution_count": 5,
     "metadata": {},
     "output_type": "execute_result"
    }
   ],
   "source": [
    "c.execute(\"insert into fsds values('sudh',34534,234.64)\")"
   ]
  },
  {
   "cell_type": "code",
   "execution_count": 9,
   "id": "839cd6c6",
   "metadata": {},
   "outputs": [
    {
     "name": "stdout",
     "output_type": "stream",
     "text": [
      " Volume in drive C is OS\n",
      " Volume Serial Number is 92ED-0D26\n",
      "\n",
      " Directory of C:\\Users\\soman\\CODE_STUFF\\Jupyter_notebooks\\KNAWLEDGE\n",
      "\n",
      "26-02-2022  08:23    <DIR>          .\n",
      "26-02-2022  08:23    <DIR>          ..\n",
      "20-02-2022  20:26    <DIR>          .ipynb_checkpoints\n",
      "20-02-2022  12:52            30,747 13 feb.ipynb\n",
      "16-01-2022  15:52             6,972 23rd Dec 2021 Homework.ipynb\n",
      "11-02-2022  15:51           105,905 5 feb 2022 MySQL.ipynb\n",
      "12-02-2022  07:53           449,588 6 Feb 2022 MySQL.ipynb\n",
      "11-01-2022  17:10               121 abc.txt\n",
      "09-02-2022  18:07            51,867 car.data\n",
      "19-02-2022  12:58           628,633 carbon_nanotubes.csv\n",
      "20-02-2022  20:22           628,633 CarbonNanotubeData.csv\n",
      "20-02-2022  20:23               832 CarbonNanoTubes.log\n",
      "04-01-2022  18:29            15,964 Data Visualization.ipynb\n",
      "20-02-2022  18:01           628,633 downloaded.csv\n",
      "20-02-2022  19:33         1,934,741 Feb 19 Task.ipynb\n",
      "26-02-2022  08:23             7,203 Feb 20.ipynb\n",
      "29-01-2022  07:15    <DIR>          FSDS CLASS RESOURCES\n",
      "09-02-2022  12:10    <DIR>          FSDS CLASS RESOURCES NEW\n",
      "04-02-2022  22:07    <DIR>          FSDS MY CLASS NOTEBOOKS\n",
      "31-12-2021  15:44            29,365 Function in pyton  (1) ( old).ipynb\n",
      "05-02-2022  11:47            11,903 glass.data\n",
      "11-01-2022  19:13               763 google.txt\n",
      "20-02-2022  10:43             8,192 ineuron.db\n",
      "26-02-2022  08:18                 0 ineuron.db-journal\n",
      "26-01-2022  12:01    <DIR>          logging\n",
      "19-01-2022  16:16               246 LogTest.log\n",
      "21-01-2022  14:40               200 LogTest2.log\n",
      "21-01-2022  15:02               417 LogTest3.log\n",
      "21-01-2022  15:14               526 LogTest4.log\n",
      "06-11-2021  11:49            38,972 Matplotlib.ipynb\n",
      "19-02-2022  10:22            57,353 mongodb class 1.ipynb\n",
      "14-11-2021  18:03            19,231 Pandas.ipynb\n",
      "30-12-2021  12:41            24,196 Python.ipynb\n",
      "23-12-2021  21:45            14,943 Seaborn 2.ipynb\n",
      "08-11-2021  11:12           460,445 Seaborn.ipynb\n",
      "20-02-2022  20:25        15,203,648 Somanshu_Sharma_19_FEB_iNeuron_Task.ipynb\n",
      "09-01-2022  19:03               129 test.log\n",
      "29-01-2022  11:42                 5 test.txt\n",
      "07-01-2022  12:08                 0 test2.txt\n",
      "07-01-2022  12:12                16 test3.txt\n",
      "19-02-2022  10:27    <DIR>          Untitled Folder\n",
      "02-02-2022  12:36            12,280 Untitled.ipynb\n",
      "02-02-2022  12:36             5,570 Untitled1.ipynb\n",
      "07-01-2022  12:13             4,342 Untitled2.ipynb\n",
      "              36 File(s)     20,382,581 bytes\n",
      "               8 Dir(s)  12,226,363,392 bytes free\n"
     ]
    }
   ],
   "source": [
    "ls\n",
    "# two files are created ineuron.db and ineuron-journal.db"
   ]
  },
  {
   "cell_type": "code",
   "execution_count": 6,
   "id": "5cfb00a4",
   "metadata": {},
   "outputs": [],
   "source": [
    "data = c.execute(\"select * from fsds\")"
   ]
  },
  {
   "cell_type": "code",
   "execution_count": 7,
   "id": "6a9ed38c",
   "metadata": {},
   "outputs": [
    {
     "name": "stdout",
     "output_type": "stream",
     "text": [
      "('sudh', 34534, 234.64)\n",
      "('sudh', 34534, 234.64)\n"
     ]
    }
   ],
   "source": [
    "for i in data : \n",
    "    print(i)"
   ]
  },
  {
   "cell_type": "code",
   "execution_count": 10,
   "id": "01f43e51",
   "metadata": {},
   "outputs": [],
   "source": [
    "db.commit()"
   ]
  },
  {
   "cell_type": "code",
   "execution_count": 11,
   "id": "721a0228",
   "metadata": {},
   "outputs": [],
   "source": [
    "db.close()"
   ]
  },
  {
   "cell_type": "code",
   "execution_count": 12,
   "id": "bc5b832a",
   "metadata": {},
   "outputs": [
    {
     "name": "stdout",
     "output_type": "stream",
     "text": [
      " Volume in drive C is OS\n",
      " Volume Serial Number is 92ED-0D26\n",
      "\n",
      " Directory of C:\\Users\\soman\\CODE_STUFF\\Jupyter_notebooks\\KNAWLEDGE\n",
      "\n",
      "26-02-2022  08:27    <DIR>          .\n",
      "26-02-2022  08:27    <DIR>          ..\n",
      "20-02-2022  20:26    <DIR>          .ipynb_checkpoints\n",
      "20-02-2022  12:52            30,747 13 feb.ipynb\n",
      "16-01-2022  15:52             6,972 23rd Dec 2021 Homework.ipynb\n",
      "11-02-2022  15:51           105,905 5 feb 2022 MySQL.ipynb\n",
      "12-02-2022  07:53           449,588 6 Feb 2022 MySQL.ipynb\n",
      "11-01-2022  17:10               121 abc.txt\n",
      "09-02-2022  18:07            51,867 car.data\n",
      "19-02-2022  12:58           628,633 carbon_nanotubes.csv\n",
      "20-02-2022  20:22           628,633 CarbonNanotubeData.csv\n",
      "20-02-2022  20:23               832 CarbonNanoTubes.log\n",
      "04-01-2022  18:29            15,964 Data Visualization.ipynb\n",
      "20-02-2022  18:01           628,633 downloaded.csv\n",
      "20-02-2022  19:33         1,934,741 Feb 19 Task.ipynb\n",
      "26-02-2022  08:27             7,270 Feb 20.ipynb\n",
      "29-01-2022  07:15    <DIR>          FSDS CLASS RESOURCES\n",
      "09-02-2022  12:10    <DIR>          FSDS CLASS RESOURCES NEW\n",
      "04-02-2022  22:07    <DIR>          FSDS MY CLASS NOTEBOOKS\n",
      "31-12-2021  15:44            29,365 Function in pyton  (1) ( old).ipynb\n",
      "05-02-2022  11:47            11,903 glass.data\n",
      "11-01-2022  19:13               763 google.txt\n",
      "26-02-2022  08:27             8,192 ineuron.db\n",
      "26-01-2022  12:01    <DIR>          logging\n",
      "19-01-2022  16:16               246 LogTest.log\n",
      "21-01-2022  14:40               200 LogTest2.log\n",
      "21-01-2022  15:02               417 LogTest3.log\n",
      "21-01-2022  15:14               526 LogTest4.log\n",
      "06-11-2021  11:49            38,972 Matplotlib.ipynb\n",
      "19-02-2022  10:22            57,353 mongodb class 1.ipynb\n",
      "14-11-2021  18:03            19,231 Pandas.ipynb\n",
      "30-12-2021  12:41            24,196 Python.ipynb\n",
      "23-12-2021  21:45            14,943 Seaborn 2.ipynb\n",
      "08-11-2021  11:12           460,445 Seaborn.ipynb\n",
      "20-02-2022  20:25        15,203,648 Somanshu_Sharma_19_FEB_iNeuron_Task.ipynb\n",
      "09-01-2022  19:03               129 test.log\n",
      "29-01-2022  11:42                 5 test.txt\n",
      "07-01-2022  12:08                 0 test2.txt\n",
      "07-01-2022  12:12                16 test3.txt\n",
      "19-02-2022  10:27    <DIR>          Untitled Folder\n",
      "02-02-2022  12:36            12,280 Untitled.ipynb\n",
      "02-02-2022  12:36             5,570 Untitled1.ipynb\n",
      "07-01-2022  12:13             4,342 Untitled2.ipynb\n",
      "              35 File(s)     20,382,648 bytes\n",
      "               8 Dir(s)  12,228,403,200 bytes free\n"
     ]
    }
   ],
   "source": [
    "ls\n",
    "# you can notice that after closing  'db', the 'ineuron-journal.db' is closed now.\n",
    "# It is like a cache file, a temp file, that helps in storing of the data"
   ]
  },
  {
   "cell_type": "code",
   "execution_count": 3,
   "id": "cd93211f",
   "metadata": {},
   "outputs": [],
   "source": [
    "db = sqlite3.connect('ineuron.db')"
   ]
  },
  {
   "cell_type": "code",
   "execution_count": 4,
   "id": "91a57fa3",
   "metadata": {},
   "outputs": [],
   "source": [
    " c = db.cursor()"
   ]
  },
  {
   "cell_type": "code",
   "execution_count": 5,
   "id": "bd940fbd",
   "metadata": {},
   "outputs": [
    {
     "data": {
      "text/plain": [
       "<sqlite3.Cursor at 0x28c101de650>"
      ]
     },
     "execution_count": 5,
     "metadata": {},
     "output_type": "execute_result"
    }
   ],
   "source": [
    "c.execute(\"insert into fsds values('sudh',34534,234.64)\")\n",
    "c.execute(\"insert into fsds values('sudh',34534,234.64)\")\n",
    "c.execute(\"insert into fsds values('sudh',34534,234.64)\")\n",
    "c.execute(\"insert into fsds values('sudh',34534,234.64)\")\n",
    "c.execute(\"insert into fsds values('sudh',34534,234.64)\")\n",
    "c.execute(\"insert into fsds values('sudh',34534,234.64)\")\n",
    "c.execute(\"insert into fsds values('sudh',34534,234.64)\")\n"
   ]
  },
  {
   "cell_type": "code",
   "execution_count": 8,
   "id": "18575681",
   "metadata": {},
   "outputs": [],
   "source": [
    "db.commit()"
   ]
  },
  {
   "cell_type": "code",
   "execution_count": 6,
   "id": "a150d8c6",
   "metadata": {},
   "outputs": [],
   "source": [
    "data = c.execute(\"select * from fsds where marks > 200\")"
   ]
  },
  {
   "cell_type": "code",
   "execution_count": 7,
   "id": "2947abc6",
   "metadata": {},
   "outputs": [
    {
     "name": "stdout",
     "output_type": "stream",
     "text": [
      "('sudh', 34534, 234.64)\n",
      "('sudh', 34534, 234.64)\n",
      "('sudh', 34534, 234.64)\n",
      "('sudh', 34534, 234.64)\n",
      "('sudh', 34534, 234.64)\n",
      "('sudh', 34534, 234.64)\n",
      "('sudh', 34534, 234.64)\n",
      "('sudh', 34534, 234.64)\n",
      "('sudh', 34534, 234.64)\n"
     ]
    }
   ],
   "source": [
    "for i in data : \n",
    "    print(i)"
   ]
  },
  {
   "cell_type": "code",
   "execution_count": 24,
   "id": "e7cc76ca",
   "metadata": {},
   "outputs": [],
   "source": [
    "data = c.execute(\"select * from fsds where name = 'sudh'\")"
   ]
  },
  {
   "cell_type": "code",
   "execution_count": 9,
   "id": "d9b8a1ab",
   "metadata": {},
   "outputs": [],
   "source": [
    "for i in data : \n",
    "    print(i)"
   ]
  },
  {
   "cell_type": "code",
   "execution_count": 26,
   "id": "031acccc",
   "metadata": {},
   "outputs": [],
   "source": [
    "data = c.execute(\"select name, marks from fsds\")"
   ]
  },
  {
   "cell_type": "code",
   "execution_count": 27,
   "id": "ff1d92e1",
   "metadata": {},
   "outputs": [
    {
     "name": "stdout",
     "output_type": "stream",
     "text": [
      "('sudh', 234.64)\n",
      "('sudh', 234.64)\n",
      "('sudh', 234.64)\n",
      "('sudh', 234.64)\n",
      "('sudh', 234.64)\n",
      "('sudh', 234.64)\n",
      "('sudh', 234.64)\n",
      "('sudh', 234.64)\n",
      "('sudh', 234.64)\n",
      "('sudh', 234.64)\n",
      "('sudh', 234.64)\n"
     ]
    }
   ],
   "source": [
    "for i in data : \n",
    "    print(i)"
   ]
  },
  {
   "cell_type": "code",
   "execution_count": 10,
   "id": "e0425740",
   "metadata": {},
   "outputs": [],
   "source": [
    "data = c.execute(\"select name,marks from fsds order by marks\")\n",
    "# defaulty ascending"
   ]
  },
  {
   "cell_type": "code",
   "execution_count": 11,
   "id": "0af6e1ab",
   "metadata": {},
   "outputs": [
    {
     "name": "stdout",
     "output_type": "stream",
     "text": [
      "('sudh', 234.64)\n",
      "('sudh', 234.64)\n",
      "('sudh', 234.64)\n",
      "('sudh', 234.64)\n",
      "('sudh', 234.64)\n",
      "('sudh', 234.64)\n",
      "('sudh', 234.64)\n",
      "('sudh', 234.64)\n",
      "('sudh', 234.64)\n"
     ]
    }
   ],
   "source": [
    "for i in data : \n",
    "    print(i)\n",
    "    "
   ]
  },
  {
   "cell_type": "code",
   "execution_count": 12,
   "id": "9b8df77a",
   "metadata": {},
   "outputs": [],
   "source": [
    "db.close()"
   ]
  },
  {
   "cell_type": "code",
   "execution_count": 13,
   "id": "56a921c8",
   "metadata": {},
   "outputs": [],
   "source": [
    "db = sqlite3.connect(\"person.db\")"
   ]
  },
  {
   "cell_type": "code",
   "execution_count": 22,
   "id": "06136249",
   "metadata": {},
   "outputs": [],
   "source": [
    "c = db.cursor()"
   ]
  },
  {
   "cell_type": "code",
   "execution_count": 23,
   "id": "111bf05a",
   "metadata": {},
   "outputs": [
    {
     "ename": "OperationalError",
     "evalue": "table person_table already exists",
     "output_type": "error",
     "traceback": [
      "\u001b[1;31m---------------------------------------------------------------------------\u001b[0m",
      "\u001b[1;31mOperationalError\u001b[0m                          Traceback (most recent call last)",
      "\u001b[1;32m~\\AppData\\Local\\Temp/ipykernel_18924/344233846.py\u001b[0m in \u001b[0;36m<module>\u001b[1;34m\u001b[0m\n\u001b[1;32m----> 1\u001b[1;33m \u001b[0mc\u001b[0m\u001b[1;33m.\u001b[0m\u001b[0mexecute\u001b[0m\u001b[1;33m(\u001b[0m\u001b[1;34m\"create table person_table(name text,mail text,age int,salary real)\"\u001b[0m\u001b[1;33m)\u001b[0m\u001b[1;33m\u001b[0m\u001b[1;33m\u001b[0m\u001b[0m\n\u001b[0m",
      "\u001b[1;31mOperationalError\u001b[0m: table person_table already exists"
     ]
    }
   ],
   "source": [
    "c.execute(\"create table person_table(name text,mail text,age int,salary real)\")"
   ]
  },
  {
   "cell_type": "code",
   "execution_count": 24,
   "id": "86bfe6f9",
   "metadata": {},
   "outputs": [
    {
     "name": "stdout",
     "output_type": "stream",
     "text": [
      " Volume in drive C is OS\n",
      " Volume Serial Number is 92ED-0D26\n",
      "\n",
      " Directory of C:\\Users\\soman\\CODE_STUFF\\Jupyter_notebooks\\KNAWLEDGE\n",
      "\n",
      "26-02-2022  08:57    <DIR>          .\n",
      "26-02-2022  08:57    <DIR>          ..\n",
      "20-02-2022  20:26    <DIR>          .ipynb_checkpoints\n",
      "20-02-2022  12:52            30,747 13 feb.ipynb\n",
      "16-01-2022  15:52             6,972 23rd Dec 2021 Homework.ipynb\n",
      "11-02-2022  15:51           105,905 5 feb 2022 MySQL.ipynb\n",
      "12-02-2022  07:53           449,588 6 Feb 2022 MySQL.ipynb\n",
      "11-01-2022  17:10               121 abc.txt\n",
      "09-02-2022  18:07            51,867 car.data\n",
      "19-02-2022  12:58           628,633 carbon_nanotubes.csv\n",
      "20-02-2022  20:22           628,633 CarbonNanotubeData.csv\n",
      "20-02-2022  20:23               832 CarbonNanoTubes.log\n",
      "04-01-2022  18:29            15,964 Data Visualization.ipynb\n",
      "20-02-2022  18:01           628,633 downloaded.csv\n",
      "20-02-2022  19:33         1,934,741 Feb 19 Task.ipynb\n",
      "26-02-2022  08:57            19,884 Feb 20.ipynb\n",
      "29-01-2022  07:15    <DIR>          FSDS CLASS RESOURCES\n",
      "09-02-2022  12:10    <DIR>          FSDS CLASS RESOURCES NEW\n",
      "04-02-2022  22:07    <DIR>          FSDS MY CLASS NOTEBOOKS\n",
      "31-12-2021  15:44            29,365 Function in pyton  (1) ( old).ipynb\n",
      "05-02-2022  11:47            11,903 glass.data\n",
      "11-01-2022  19:13               763 google.txt\n",
      "26-02-2022  08:53             8,192 ineuron.db\n",
      "26-01-2022  12:01    <DIR>          logging\n",
      "19-01-2022  16:16               246 LogTest.log\n",
      "21-01-2022  14:40               200 LogTest2.log\n",
      "21-01-2022  15:02               417 LogTest3.log\n",
      "21-01-2022  15:14               526 LogTest4.log\n",
      "06-11-2021  11:49            38,972 Matplotlib.ipynb\n",
      "19-02-2022  10:22            57,353 mongodb class 1.ipynb\n",
      "14-11-2021  18:03            19,231 Pandas.ipynb\n",
      "26-02-2022  08:55             8,192 person.db\n",
      "30-12-2021  12:41            24,196 Python.ipynb\n",
      "23-12-2021  21:45            14,943 Seaborn 2.ipynb\n",
      "08-11-2021  11:12           460,445 Seaborn.ipynb\n",
      "20-02-2022  20:25        15,203,648 Somanshu_Sharma_19_FEB_iNeuron_Task.ipynb\n",
      "09-01-2022  19:03               129 test.log\n",
      "29-01-2022  11:42                 5 test.txt\n",
      "07-01-2022  12:08                 0 test2.txt\n",
      "07-01-2022  12:12                16 test3.txt\n",
      "19-02-2022  10:27    <DIR>          Untitled Folder\n",
      "02-02-2022  12:36            12,280 Untitled.ipynb\n",
      "02-02-2022  12:36             5,570 Untitled1.ipynb\n",
      "07-01-2022  12:13             4,342 Untitled2.ipynb\n",
      "              36 File(s)     20,403,454 bytes\n",
      "               8 Dir(s)  12,199,026,688 bytes free\n"
     ]
    }
   ],
   "source": [
    "ls"
   ]
  },
  {
   "cell_type": "code",
   "execution_count": 29,
   "id": "6697df1c",
   "metadata": {},
   "outputs": [
    {
     "data": {
      "text/plain": [
       "<sqlite3.Cursor at 0x28c10202c70>"
      ]
     },
     "execution_count": 29,
     "metadata": {},
     "output_type": "execute_result"
    }
   ],
   "source": [
    "c.execute(\"insert into person_table values('som','somanshu@blah.com', 21, 600000.00)\")\n",
    "c.execute(\"insert into person_table values('som','somanshu@blah.com', 21, 600000.00)\")\n",
    "c.execute(\"insert into person_table values('som','somanshu@blah.com', 21, 600000.00)\")\n",
    "c.execute(\"insert into person_table values('som','somanshu@blah.com', 21, 600000.00)\")\n",
    "c.execute(\"insert into person_table values('som','somanshu@blah.com', 21, 600000.00)\")\n",
    "c.execute(\"insert into person_table values('som','somanshu@blah.com', 21, 600000.00)\")"
   ]
  },
  {
   "cell_type": "code",
   "execution_count": 30,
   "id": "fbd3a30e",
   "metadata": {},
   "outputs": [],
   "source": [
    "data = c.execute(\"select * from person_table\")"
   ]
  },
  {
   "cell_type": "code",
   "execution_count": 31,
   "id": "a5c86e15",
   "metadata": {},
   "outputs": [
    {
     "name": "stdout",
     "output_type": "stream",
     "text": [
      "('som', 'somanshu@blah.com', 21, 600000.0)\n",
      "('som', 'somanshu@blah.com', 21, 600000.0)\n",
      "('som', 'somanshu@blah.com', 21, 600000.0)\n",
      "('som', 'somanshu@blah.com', 21, 600000.0)\n",
      "('som', 'somanshu@blah.com', 21, 600000.0)\n",
      "('som', 'somanshu@blah.com', 21, 600000.0)\n",
      "('som', 'somanshu@blah.com', 21, 600000.0)\n",
      "('som', 'somanshu@blah.com', 21, 600000.0)\n"
     ]
    }
   ],
   "source": [
    "for i in data : \n",
    "    print(i)"
   ]
  },
  {
   "cell_type": "code",
   "execution_count": 32,
   "id": "11471aac",
   "metadata": {},
   "outputs": [],
   "source": [
    "db.commit()\n"
   ]
  },
  {
   "cell_type": "code",
   "execution_count": 33,
   "id": "f0a7378e",
   "metadata": {},
   "outputs": [],
   "source": [
    "c.close()"
   ]
  },
  {
   "cell_type": "code",
   "execution_count": 34,
   "id": "43ed1b80",
   "metadata": {},
   "outputs": [],
   "source": [
    "db.close()"
   ]
  },
  {
   "cell_type": "code",
   "execution_count": 36,
   "id": "fd98c9d2",
   "metadata": {},
   "outputs": [],
   "source": [
    "db = sqlite3.connect('ineuron.db')"
   ]
  },
  {
   "cell_type": "code",
   "execution_count": 37,
   "id": "e722b5fc",
   "metadata": {},
   "outputs": [],
   "source": [
    "c = db.cursor()"
   ]
  },
  {
   "cell_type": "code",
   "execution_count": 38,
   "id": "1f3116c2",
   "metadata": {},
   "outputs": [
    {
     "data": {
      "text/plain": [
       "<sqlite3.Cursor at 0x28c10202c00>"
      ]
     },
     "execution_count": 38,
     "metadata": {},
     "output_type": "execute_result"
    }
   ],
   "source": [
    "c.execute('drop table fsds')"
   ]
  },
  {
   "cell_type": "code",
   "execution_count": 39,
   "id": "499b4cbd",
   "metadata": {},
   "outputs": [
    {
     "ename": "OperationalError",
     "evalue": "no such table: fsds",
     "output_type": "error",
     "traceback": [
      "\u001b[1;31m---------------------------------------------------------------------------\u001b[0m",
      "\u001b[1;31mOperationalError\u001b[0m                          Traceback (most recent call last)",
      "\u001b[1;32m~\\AppData\\Local\\Temp/ipykernel_18924/920992751.py\u001b[0m in \u001b[0;36m<module>\u001b[1;34m\u001b[0m\n\u001b[1;32m----> 1\u001b[1;33m \u001b[0mc\u001b[0m\u001b[1;33m.\u001b[0m\u001b[0mexecute\u001b[0m\u001b[1;33m(\u001b[0m\u001b[1;34m'select * from fsds'\u001b[0m\u001b[1;33m)\u001b[0m\u001b[1;33m\u001b[0m\u001b[1;33m\u001b[0m\u001b[0m\n\u001b[0m",
      "\u001b[1;31mOperationalError\u001b[0m: no such table: fsds"
     ]
    }
   ],
   "source": [
    "c.execute('select * from fsds')"
   ]
  },
  {
   "cell_type": "code",
   "execution_count": 40,
   "id": "090cd4cf",
   "metadata": {},
   "outputs": [
    {
     "name": "stdout",
     "output_type": "stream",
     "text": [
      " Volume in drive C is OS\n",
      " Volume Serial Number is 92ED-0D26\n",
      "\n",
      " Directory of C:\\Users\\soman\\CODE_STUFF\\Jupyter_notebooks\\KNAWLEDGE\n",
      "\n",
      "26-02-2022  09:03    <DIR>          .\n",
      "26-02-2022  09:03    <DIR>          ..\n",
      "20-02-2022  20:26    <DIR>          .ipynb_checkpoints\n",
      "20-02-2022  12:52            30,747 13 feb.ipynb\n",
      "16-01-2022  15:52             6,972 23rd Dec 2021 Homework.ipynb\n",
      "11-02-2022  15:51           105,905 5 feb 2022 MySQL.ipynb\n",
      "12-02-2022  07:53           449,588 6 Feb 2022 MySQL.ipynb\n",
      "11-01-2022  17:10               121 abc.txt\n",
      "09-02-2022  18:07            51,867 car.data\n",
      "19-02-2022  12:58           628,633 carbon_nanotubes.csv\n",
      "20-02-2022  20:22           628,633 CarbonNanotubeData.csv\n",
      "20-02-2022  20:23               832 CarbonNanoTubes.log\n",
      "04-01-2022  18:29            15,964 Data Visualization.ipynb\n",
      "20-02-2022  18:01           628,633 downloaded.csv\n",
      "20-02-2022  19:33         1,934,741 Feb 19 Task.ipynb\n",
      "26-02-2022  09:01            21,625 Feb 20.ipynb\n",
      "29-01-2022  07:15    <DIR>          FSDS CLASS RESOURCES\n",
      "09-02-2022  12:10    <DIR>          FSDS CLASS RESOURCES NEW\n",
      "04-02-2022  22:07    <DIR>          FSDS MY CLASS NOTEBOOKS\n",
      "31-12-2021  15:44            29,365 Function in pyton  (1) ( old).ipynb\n",
      "05-02-2022  11:47            11,903 glass.data\n",
      "11-01-2022  19:13               763 google.txt\n",
      "26-02-2022  09:03             8,192 ineuron.db\n",
      "26-01-2022  12:01    <DIR>          logging\n",
      "19-01-2022  16:16               246 LogTest.log\n",
      "21-01-2022  14:40               200 LogTest2.log\n",
      "21-01-2022  15:02               417 LogTest3.log\n",
      "21-01-2022  15:14               526 LogTest4.log\n",
      "06-11-2021  11:49            38,972 Matplotlib.ipynb\n",
      "19-02-2022  10:22            57,353 mongodb class 1.ipynb\n",
      "14-11-2021  18:03            19,231 Pandas.ipynb\n",
      "26-02-2022  09:01             8,192 person.db\n",
      "30-12-2021  12:41            24,196 Python.ipynb\n",
      "23-12-2021  21:45            14,943 Seaborn 2.ipynb\n",
      "08-11-2021  11:12           460,445 Seaborn.ipynb\n",
      "20-02-2022  20:25        15,203,648 Somanshu_Sharma_19_FEB_iNeuron_Task.ipynb\n",
      "09-01-2022  19:03               129 test.log\n",
      "29-01-2022  11:42                 5 test.txt\n",
      "07-01-2022  12:08                 0 test2.txt\n",
      "07-01-2022  12:12                16 test3.txt\n",
      "19-02-2022  10:27    <DIR>          Untitled Folder\n",
      "02-02-2022  12:36            12,280 Untitled.ipynb\n",
      "02-02-2022  12:36             5,570 Untitled1.ipynb\n",
      "07-01-2022  12:13             4,342 Untitled2.ipynb\n",
      "              36 File(s)     20,405,195 bytes\n",
      "               8 Dir(s)  12,195,581,952 bytes free\n"
     ]
    }
   ],
   "source": [
    "ls"
   ]
  },
  {
   "cell_type": "code",
   "execution_count": 41,
   "id": "d4c09bb7",
   "metadata": {},
   "outputs": [],
   "source": [
    "db.close()"
   ]
  },
  {
   "cell_type": "code",
   "execution_count": 42,
   "id": "3cb14393",
   "metadata": {},
   "outputs": [],
   "source": [
    "db = sqlite3.connect('person.db')"
   ]
  },
  {
   "cell_type": "code",
   "execution_count": 43,
   "id": "c119e4aa",
   "metadata": {},
   "outputs": [],
   "source": [
    "c = db.cursor()"
   ]
  },
  {
   "cell_type": "code",
   "execution_count": 45,
   "id": "c4154753",
   "metadata": {},
   "outputs": [],
   "source": [
    "data = c.execute(\"select * from person_table limit 2\")"
   ]
  },
  {
   "cell_type": "code",
   "execution_count": 46,
   "id": "cb9ed412",
   "metadata": {},
   "outputs": [
    {
     "name": "stdout",
     "output_type": "stream",
     "text": [
      "('som', 'somanshu@blah.com', 21, 600000.0)\n",
      "('som', 'somanshu@blah.com', 21, 600000.0)\n"
     ]
    }
   ],
   "source": [
    " for i in data : \n",
    "    print(i)\n",
    "    "
   ]
  },
  {
   "cell_type": "code",
   "execution_count": 47,
   "id": "c7a82ffd",
   "metadata": {},
   "outputs": [],
   "source": [
    "# join operation  "
   ]
  },
  {
   "cell_type": "code",
   "execution_count": 48,
   "id": "953323b7",
   "metadata": {},
   "outputs": [],
   "source": [
    "db = sqlite3.connect('joindb.db')"
   ]
  },
  {
   "cell_type": "code",
   "execution_count": 49,
   "id": "e6849536",
   "metadata": {},
   "outputs": [],
   "source": [
    "c = db.cursor()"
   ]
  },
  {
   "cell_type": "code",
   "execution_count": 50,
   "id": "6741b0f9",
   "metadata": {},
   "outputs": [
    {
     "data": {
      "text/plain": [
       "<sqlite3.Cursor at 0x28c12790ab0>"
      ]
     },
     "execution_count": 50,
     "metadata": {},
     "output_type": "execute_result"
    }
   ],
   "source": [
    "c.execute('create table student(student_id int, student_name text, student_mailid text, marks int)')"
   ]
  },
  {
   "cell_type": "code",
   "execution_count": null,
   "id": "8456c43e",
   "metadata": {},
   "outputs": [],
   "source": [
    "c.execute('create table address(student_id text, pincode int,location text )')"
   ]
  }
 ],
 "metadata": {
  "kernelspec": {
   "display_name": "Python 3 (ipykernel)",
   "language": "python",
   "name": "python3"
  },
  "language_info": {
   "codemirror_mode": {
    "name": "ipython",
    "version": 3
   },
   "file_extension": ".py",
   "mimetype": "text/x-python",
   "name": "python",
   "nbconvert_exporter": "python",
   "pygments_lexer": "ipython3",
   "version": "3.9.7"
  }
 },
 "nbformat": 4,
 "nbformat_minor": 5
}
